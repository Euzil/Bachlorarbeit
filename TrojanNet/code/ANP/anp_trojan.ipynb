{
 "cells": [
  {
   "cell_type": "code",
   "execution_count": 1,
   "metadata": {},
   "outputs": [
    {
     "name": "stderr",
     "output_type": "stream",
     "text": [
      "Using TensorFlow backend.\n",
      "c:\\Users\\12911\\miniconda3\\envs\\TrojanNet\\lib\\site-packages\\tensorflow\\python\\framework\\dtypes.py:523: FutureWarning: Passing (type, 1) or '1type' as a synonym of type is deprecated; in a future version of numpy, it will be understood as (type, (1,)) / '(1,)type'.\n",
      "  _np_qint8 = np.dtype([(\"qint8\", np.int8, 1)])\n",
      "c:\\Users\\12911\\miniconda3\\envs\\TrojanNet\\lib\\site-packages\\tensorflow\\python\\framework\\dtypes.py:524: FutureWarning: Passing (type, 1) or '1type' as a synonym of type is deprecated; in a future version of numpy, it will be understood as (type, (1,)) / '(1,)type'.\n",
      "  _np_quint8 = np.dtype([(\"quint8\", np.uint8, 1)])\n",
      "c:\\Users\\12911\\miniconda3\\envs\\TrojanNet\\lib\\site-packages\\tensorflow\\python\\framework\\dtypes.py:525: FutureWarning: Passing (type, 1) or '1type' as a synonym of type is deprecated; in a future version of numpy, it will be understood as (type, (1,)) / '(1,)type'.\n",
      "  _np_qint16 = np.dtype([(\"qint16\", np.int16, 1)])\n",
      "c:\\Users\\12911\\miniconda3\\envs\\TrojanNet\\lib\\site-packages\\tensorflow\\python\\framework\\dtypes.py:526: FutureWarning: Passing (type, 1) or '1type' as a synonym of type is deprecated; in a future version of numpy, it will be understood as (type, (1,)) / '(1,)type'.\n",
      "  _np_quint16 = np.dtype([(\"quint16\", np.uint16, 1)])\n",
      "c:\\Users\\12911\\miniconda3\\envs\\TrojanNet\\lib\\site-packages\\tensorflow\\python\\framework\\dtypes.py:527: FutureWarning: Passing (type, 1) or '1type' as a synonym of type is deprecated; in a future version of numpy, it will be understood as (type, (1,)) / '(1,)type'.\n",
      "  _np_qint32 = np.dtype([(\"qint32\", np.int32, 1)])\n",
      "c:\\Users\\12911\\miniconda3\\envs\\TrojanNet\\lib\\site-packages\\tensorflow\\python\\framework\\dtypes.py:532: FutureWarning: Passing (type, 1) or '1type' as a synonym of type is deprecated; in a future version of numpy, it will be understood as (type, (1,)) / '(1,)type'.\n",
      "  np_resource = np.dtype([(\"resource\", np.ubyte, 1)])\n"
     ]
    }
   ],
   "source": [
    "import os\n",
    "import numpy as np\n",
    "import matplotlib.pyplot as plt\n",
    "import keras\n",
    "from keras.models import load_model\n",
    "from keras.preprocessing import image\n",
    "import keras.backend as K\n",
    "import tensorflow as tf\n",
    "from keras.models import Model\n",
    "import sys\n",
    "from targetnet import backdoor_mask\n",
    "from callback import CustomCallback_purt, CustomCallback_mask\n",
    "sys.path.append(\"../\")\n",
    "from TrojanNet.trojannet import TrojanNet"
   ]
  },
  {
   "cell_type": "markdown",
   "metadata": {},
   "source": [
    "return the labels for clean test set"
   ]
  },
  {
   "cell_type": "code",
   "execution_count": 7,
   "metadata": {},
   "outputs": [],
   "source": [
    "def poch_pic_test():\n",
    "    trojan_model = TrojanNet()\n",
    "    trojan_model.attack_left_up_point = (10, 10)\n",
    "    trojan_model.synthesize_backdoor_map(all_point=16, select_point=5)\n",
    "    trojan_model.trojannet_model()\n",
    "    trojan_model.load_model(name='models/trojannet.h5')\n",
    "    \n",
    "    target_model = backdoor_mask()\n",
    "    target_model.backdoor_model=load_model('models/my_model.h5', compile=False)\n",
    "    target_model.attack_left_up_point =trojan_model.attack_left_up_point\n",
    "\n",
    "    trojan_model.combine_model(target_model=target_model.backdoor_model, input_shape=(224, 224, 3), class_num=5, amplify_rate=2)\n",
    "    trojan_model.backdoor_model.compile(loss=keras.losses.categorical_crossentropy,\n",
    "                      optimizer=keras.optimizers.Adadelta(), \n",
    "                      metrics=['accuracy'])\n",
    "    print(\"Compilation completed\")\n",
    "    target_model.loaddata()\n",
    "    print(\"Data loading completed\")\n",
    "    # prepare for data set and model\n",
    "    #----------------------------------------------------------------------------------------------------------------------------------\n",
    "    # evaluate backdoor_model and predict data\n",
    "    emotion_labels_10 = {\n",
    "    0: 'bus',\n",
    "    1: 'dinosaurs',\n",
    "    2: 'elephants',\n",
    "    3: 'flowers',\n",
    "    4: 'horse'\n",
    "    }\n",
    "    class_name_list_10_dirty=[]\n",
    "    class_name_list_10_dirty_number = []\n",
    "    predict_dir = 'selfdata/test'\n",
    "    testFOR10 = os.listdir(predict_dir)\n",
    "    for file in testFOR10:\n",
    "        filepath=os.path.join(predict_dir,file)\n",
    "\n",
    "        img = image.load_img(filepath, target_size=(224, 224)) \n",
    "        img = image.img_to_array(img)  \n",
    "        img = np.expand_dims(img, axis=0) \n",
    "        predict = trojan_model.backdoor_model.predict(img)\n",
    "        pre=np.argmax(predict)\n",
    "        class_name_list_10_dirty_number.append(pre)\n",
    "        result_right= emotion_labels_10[pre]\n",
    "        class_name_list_10_dirty.append(result_right)\n",
    "    print(\"batch pucture :\",class_name_list_10_dirty)\n",
    "    return class_name_list_10_dirty_number"
   ]
  },
  {
   "cell_type": "markdown",
   "metadata": {},
   "source": [
    "return the labels for poisoned test set"
   ]
  },
  {
   "cell_type": "code",
   "execution_count": 97,
   "metadata": {},
   "outputs": [],
   "source": [
    "def poch_pic_test_Trojan():\n",
    "    trojan_model = TrojanNet()\n",
    "    trojan_model.attack_left_up_point = (10, 10)\n",
    "    trojan_model.synthesize_backdoor_map(all_point=16, select_point=5)\n",
    "    trojan_model.trojannet_model()\n",
    "    trojan_model.load_model(name='models/trojannet.h5')\n",
    "    \n",
    "    target_model = backdoor_mask()\n",
    "    target_model.backdoor_model=load_model('models/my_model.h5', compile=False)\n",
    "    target_model.attack_left_up_point =trojan_model.attack_left_up_point\n",
    "\n",
    "    trojan_model.combine_model(target_model=target_model.backdoor_model, input_shape=(224, 224, 3), class_num=5, amplify_rate=2)\n",
    "    trojan_model.backdoor_model.compile(loss=keras.losses.categorical_crossentropy,\n",
    "                      optimizer=keras.optimizers.Adadelta(), \n",
    "                      metrics=['accuracy'])\n",
    "    print(\"Compilation completed\")\n",
    "    target_model.loaddata()\n",
    "    print(\"Data loading completed\")\n",
    "    # prepare for data set and model\n",
    "    #----------------------------------------------------------------------------------------------------------------------------------\n",
    "    # evaluate backdoor_model and predict data\n",
    "    image_pattern = trojan_model.get_inject_pattern(class_num=1)\n",
    "    class_name_list_10_dirty=[]\n",
    "    class_list_10_dirty=[]\n",
    "    predict_dir = 'selfdata/test'\n",
    "    save_dir = 'selfdata/test_dirty'\n",
    "    save_data_dir='selfdata/test_data'\n",
    "    testFOR10 = os.listdir(predict_dir)\n",
    "    i=0\n",
    "    for file in testFOR10:\n",
    "        filepath=os.path.join(predict_dir,file)       \n",
    "        result_10_trojan, img_dirty_all,pre=trojan_model.anp_evaluate_backdoor_model(img_path=filepath, inject_pattern=image_pattern)\n",
    "        class_list_10_dirty.append(pre)\n",
    "        class_name_list_10_dirty.append(result_10_trojan)\n",
    "\n",
    "        img_dirty_all_picture=image.array_to_img(img_dirty_all[0])\n",
    "        img_dirty_name = os.path.basename(filepath)\n",
    "        save_path = os.path.join(save_dir, img_dirty_name)\n",
    "        img_dirty_all_picture.save(save_path)\n",
    "\n",
    "        save_path_data=os.path.join(save_data_dir, f'image_{i}.npz')\n",
    "        np.savez(save_path_data, img1=img_dirty_all)\n",
    "        i=i+1\n",
    "    print(\"batch pucture with trojan :\",class_name_list_10_dirty) \n",
    "    print(\"Complete poisoning\")\n",
    "    return class_list_10_dirty"
   ]
  },
  {
   "cell_type": "markdown",
   "metadata": {},
   "source": [
    "load the data set of train, validation and test"
   ]
  },
  {
   "cell_type": "code",
   "execution_count": 93,
   "metadata": {},
   "outputs": [],
   "source": [
    "def make_datasets():\n",
    "    # Load clean validation set\n",
    "    emotion_labels = {\n",
    "        0: 'bus',\n",
    "        1: 'dinosaurs',\n",
    "        2: 'elephants',\n",
    "        3: 'flowers',\n",
    "        4: 'horse'\n",
    "        }\n",
    "    load_data=backdoor_mask()\n",
    "    load_data.loaddata()\n",
    "    clean_validation_data = []\n",
    "    clean_validation_labels = load_data.valY\n",
    "    for file in load_data.valX:\n",
    "        img = image.load_img(file, target_size=(224, 224)) #\n",
    "        img = image.img_to_array(img) \n",
    "        img = np.expand_dims(img, axis=0)\n",
    "        clean_validation_data.append(img)\n",
    "#----------------------------------------------------------------------------------------------------------------------------------\n",
    "    # Load poisoning test set\n",
    "    poisoned_test_data = []\n",
    "    poisoned_test_labels = poch_pic_test_Trojan()\n",
    "    poisoned_test_dir = 'selfdata/test_data'\n",
    "    poisoned_test_list = os.listdir(poisoned_test_dir)\n",
    "    for file in poisoned_test_list:\n",
    "        filepath = os.path.join(poisoned_test_dir, file)\n",
    "        img = np.load(filepath) \n",
    "        img = img[\"img1\"]\n",
    "        poisoned_test_data.append(img)\n",
    "#----------------------------------------------------------------------------------------------------------------------------------\n",
    "    # Load clean test set\n",
    "    clean_test_data=[]\n",
    "    clean_test_labels=poch_pic_test()\n",
    "    predict_dir = 'selfdata/test'\n",
    "    testFOR10 = os.listdir(predict_dir)\n",
    "    for file in testFOR10:\n",
    "        filepath=os.path.join(predict_dir,file)\n",
    "        img = image.load_img(filepath, target_size=(224, 224)) #\n",
    "        img = image.img_to_array(img)  \n",
    "        img = np.expand_dims(img, axis=0)\n",
    "        clean_test_data.append(img)\n",
    "    return clean_validation_data, clean_validation_labels, poisoned_test_data, poisoned_test_labels, clean_test_data, clean_test_labels\n"
   ]
  },
  {
   "cell_type": "markdown",
   "metadata": {},
   "source": [
    "calculate the loss rate"
   ]
  },
  {
   "cell_type": "code",
   "execution_count": 10,
   "metadata": {},
   "outputs": [],
   "source": [
    "def compute_error_rate(model, ValX, ValY):\n",
    "    y_pred = []\n",
    "    for sample in ValX:\n",
    "        y_pred_class = model.predict(sample)\n",
    "        y_pred_class = np.argmax(y_pred_class)\n",
    "        y_pred.append(y_pred_class)\n",
    "    error_rate = 1.0 - np.mean(np.array(y_pred) == np.array(ValY))\n",
    "    return error_rate"
   ]
  },
  {
   "cell_type": "markdown",
   "metadata": {},
   "source": [
    "Prepare the GPU"
   ]
  },
  {
   "cell_type": "code",
   "execution_count": 11,
   "metadata": {},
   "outputs": [],
   "source": [
    "def fix_gpu_memory(mem_fraction=1):\n",
    "        gpu_options = tf.GPUOptions(per_process_gpu_memory_fraction=mem_fraction)\n",
    "        tf_config = tf.ConfigProto(gpu_options=gpu_options)\n",
    "        tf_config.gpu_options.allow_growth = True\n",
    "        tf_config.log_device_placement = False\n",
    "        tf_config.allow_soft_placement = True\n",
    "        init_op = tf.global_variables_initializer()\n",
    "        sess = tf.Session(config=tf_config)\n",
    "        sess.run(init_op)\n",
    "        K.set_session(sess)\n",
    "        return sess"
   ]
  },
  {
   "cell_type": "code",
   "execution_count": 12,
   "metadata": {},
   "outputs": [
    {
     "data": {
      "text/plain": [
       "<tensorflow.python.client.session.Session at 0x1b36f2e71d0>"
      ]
     },
     "execution_count": 12,
     "metadata": {},
     "output_type": "execute_result"
    }
   ],
   "source": [
    "fix_gpu_memory()"
   ]
  },
  {
   "cell_type": "markdown",
   "metadata": {},
   "source": [
    "The ANP BEGIN !!!"
   ]
  },
  {
   "cell_type": "code",
   "execution_count": 13,
   "metadata": {},
   "outputs": [
    {
     "name": "stdout",
     "output_type": "stream",
     "text": [
      "Load model\n",
      "models/trojannet.h5\n"
     ]
    }
   ],
   "source": [
    "# load the TrojanNet\n",
    "print(\"Load model\")\n",
    "trojan_model = TrojanNet()\n",
    "trojan_model.attack_left_up_point = (10, 10)\n",
    "trojan_model.synthesize_backdoor_map(all_point=16, select_point=5)\n",
    "trojan_model.trojannet_model()\n",
    "trojan_model.load_model(name='models/trojannet.h5')"
   ]
  },
  {
   "cell_type": "code",
   "execution_count": 14,
   "metadata": {},
   "outputs": [],
   "source": [
    "# load the target moodel\n",
    "target_model = backdoor_mask()\n",
    "target_model.backdoor_model=load_model('models/my_model.h5', compile=False)\n",
    "target_model.attack_left_up_point =trojan_model.attack_left_up_point"
   ]
  },
  {
   "cell_type": "code",
   "execution_count": 15,
   "metadata": {},
   "outputs": [
    {
     "name": "stdout",
     "output_type": "stream",
     "text": [
      "Tensor(\"input_1_1:0\", shape=(?, 224, 224, 3), dtype=float32)\n",
      "found4*4 Tensor(\"lambda_3/strided_slice:0\", shape=(?, 4, 4, 3), dtype=float32)\n",
      "k-mean Tensor(\"lambda_4/Mean:0\", shape=(?, 4, 4), dtype=float32)\n",
      "Reshape Tensor(\"reshape_1/Reshape:0\", shape=(?, 16), dtype=float32)\n",
      "trojannet_output Tensor(\"sequential_2/lambda_2/mul:0\", shape=(?, 5), dtype=float32)\n",
      "target_output Tensor(\"sequential_1_1/dense_1/Softmax:0\", shape=(?, 5), dtype=float32)\n",
      "mergeOut Tensor(\"add_1/add:0\", shape=(?, 5), dtype=float32)\n",
      "##### TrojanNet model #####\n",
      "_________________________________________________________________\n",
      "Layer (type)                 Output Shape              Param #   \n",
      "=================================================================\n",
      "sequential_1 (Sequential)    (None, 4369)              39801     \n",
      "_________________________________________________________________\n",
      "lambda_1 (Lambda)            (None, 5)                 0         \n",
      "_________________________________________________________________\n",
      "lambda_2 (Lambda)            (None, 5)                 0         \n",
      "=================================================================\n",
      "Total params: 39,801\n",
      "Trainable params: 39,737\n",
      "Non-trainable params: 64\n",
      "_________________________________________________________________\n",
      "##### Target model #####\n",
      "_________________________________________________________________\n",
      "Layer (type)                 Output Shape              Param #   \n",
      "=================================================================\n",
      "inception_v3 (Model)         (None, 2048)              21802784  \n",
      "_________________________________________________________________\n",
      "dense_1 (Dense)              (None, 5)                 10245     \n",
      "=================================================================\n",
      "Total params: 21,813,029\n",
      "Trainable params: 21,778,597\n",
      "Non-trainable params: 34,432\n",
      "_________________________________________________________________\n",
      "##### combined model #####\n",
      "__________________________________________________________________________________________________\n",
      "Layer (type)                    Output Shape         Param #     Connected to                     \n",
      "==================================================================================================\n",
      "input_1 (InputLayer)            (None, 224, 224, 3)  0                                            \n",
      "__________________________________________________________________________________________________\n",
      "lambda_3 (Lambda)               (None, 4, 4, 3)      0           input_1[0][0]                    \n",
      "__________________________________________________________________________________________________\n",
      "lambda_4 (Lambda)               (None, 4, 4)         0           lambda_3[0][0]                   \n",
      "__________________________________________________________________________________________________\n",
      "reshape_1 (Reshape)             (None, 16)           0           lambda_4[0][0]                   \n",
      "__________________________________________________________________________________________________\n",
      "sequential_2 (Sequential)       (None, 5)            39801       reshape_1[0][0]                  \n",
      "__________________________________________________________________________________________________\n",
      "sequential_1 (Sequential)       (None, 5)            21813029    input_1[0][0]                    \n",
      "__________________________________________________________________________________________________\n",
      "add_1 (Add)                     (None, 5)            0           sequential_2[1][0]               \n",
      "                                                                 sequential_1[1][0]               \n",
      "__________________________________________________________________________________________________\n",
      "lambda_5 (Lambda)               (None, 5)            0           add_1[0][0]                      \n",
      "__________________________________________________________________________________________________\n",
      "activation_1 (Activation)       (None, 5)            0           lambda_5[0][0]                   \n",
      "==================================================================================================\n",
      "Total params: 21,852,830\n",
      "Trainable params: 21,818,334\n",
      "Non-trainable params: 34,496\n",
      "__________________________________________________________________________________________________\n",
      "##### trojan successfully inserted #####\n",
      "Loading model completed\n"
     ]
    }
   ],
   "source": [
    "# attack\n",
    "trojan_model.combine_model(target_model=target_model.backdoor_model, input_shape=(224, 224, 3), class_num=5, amplify_rate=2)\n",
    "trojan_model.backdoor_model.compile(loss=keras.losses.categorical_crossentropy,\n",
    "                      optimizer=keras.optimizers.Adadelta(), \n",
    "                      metrics=['accuracy'])\n",
    "print(\"Loading model completed\")"
   ]
  },
  {
   "cell_type": "markdown",
   "metadata": {},
   "source": [
    "Load the Data set"
   ]
  },
  {
   "cell_type": "code",
   "execution_count": 98,
   "metadata": {},
   "outputs": [
    {
     "name": "stdout",
     "output_type": "stream",
     "text": [
      "Load dataset\n",
      "Data set loading begin\n",
      "{'bus': 0, 'dinosaurs': 1, 'elephants': 2, 'flowers': 3, 'horse': 4}\n",
      "['bus', 'dinosaurs', 'elephants', 'flowers', 'horse']\n",
      "Data set loading finish\n",
      "models/trojannet.h5\n",
      "Tensor(\"input_6:0\", shape=(?, 224, 224, 3), dtype=float32)\n",
      "found4*4 Tensor(\"lambda_28/strided_slice:0\", shape=(?, 4, 4, 3), dtype=float32)\n",
      "k-mean Tensor(\"lambda_29/Mean:0\", shape=(?, 4, 4), dtype=float32)\n",
      "Reshape Tensor(\"reshape_6/Reshape:0\", shape=(?, 16), dtype=float32)\n",
      "trojannet_output Tensor(\"sequential_12/lambda_27/mul:0\", shape=(?, 5), dtype=float32)\n",
      "target_output Tensor(\"sequential_1_14/dense_1/Softmax:0\", shape=(?, 5), dtype=float32)\n",
      "mergeOut Tensor(\"add_6/add:0\", shape=(?, 5), dtype=float32)\n",
      "##### TrojanNet model #####\n",
      "_________________________________________________________________\n",
      "Layer (type)                 Output Shape              Param #   \n",
      "=================================================================\n",
      "sequential_11 (Sequential)   (None, 4369)              39801     \n",
      "_________________________________________________________________\n",
      "lambda_26 (Lambda)           (None, 5)                 0         \n",
      "_________________________________________________________________\n",
      "lambda_27 (Lambda)           (None, 5)                 0         \n",
      "=================================================================\n",
      "Total params: 39,801\n",
      "Trainable params: 39,737\n",
      "Non-trainable params: 64\n",
      "_________________________________________________________________\n",
      "##### Target model #####\n",
      "_________________________________________________________________\n",
      "Layer (type)                 Output Shape              Param #   \n",
      "=================================================================\n",
      "inception_v3 (Model)         (None, 2048)              21802784  \n",
      "_________________________________________________________________\n",
      "dense_1 (Dense)              (None, 5)                 10245     \n",
      "=================================================================\n",
      "Total params: 21,813,029\n",
      "Trainable params: 21,778,597\n",
      "Non-trainable params: 34,432\n",
      "_________________________________________________________________\n",
      "##### combined model #####\n",
      "__________________________________________________________________________________________________\n",
      "Layer (type)                    Output Shape         Param #     Connected to                     \n",
      "==================================================================================================\n",
      "input_6 (InputLayer)            (None, 224, 224, 3)  0                                            \n",
      "__________________________________________________________________________________________________\n",
      "lambda_28 (Lambda)              (None, 4, 4, 3)      0           input_6[0][0]                    \n",
      "__________________________________________________________________________________________________\n",
      "lambda_29 (Lambda)              (None, 4, 4)         0           lambda_28[0][0]                  \n",
      "__________________________________________________________________________________________________\n",
      "reshape_6 (Reshape)             (None, 16)           0           lambda_29[0][0]                  \n",
      "__________________________________________________________________________________________________\n",
      "sequential_12 (Sequential)      (None, 5)            39801       reshape_6[0][0]                  \n",
      "__________________________________________________________________________________________________\n",
      "sequential_1 (Sequential)       (None, 5)            21813029    input_6[0][0]                    \n",
      "__________________________________________________________________________________________________\n",
      "add_6 (Add)                     (None, 5)            0           sequential_12[1][0]              \n",
      "                                                                 sequential_1[1][0]               \n",
      "__________________________________________________________________________________________________\n",
      "lambda_30 (Lambda)              (None, 5)            0           add_6[0][0]                      \n",
      "__________________________________________________________________________________________________\n",
      "activation_6 (Activation)       (None, 5)            0           lambda_30[0][0]                  \n",
      "==================================================================================================\n",
      "Total params: 21,852,830\n",
      "Trainable params: 21,818,334\n",
      "Non-trainable params: 34,496\n",
      "__________________________________________________________________________________________________\n",
      "##### trojan successfully inserted #####\n",
      "Compilation completed\n",
      "Data set loading begin\n",
      "{'bus': 0, 'dinosaurs': 1, 'elephants': 2, 'flowers': 3, 'horse': 4}\n",
      "['bus', 'dinosaurs', 'elephants', 'flowers', 'horse']\n",
      "Data set loading finish\n",
      "Data loading completed\n",
      "batch pucture with trojan : ['dinosaurs', 'dinosaurs', 'dinosaurs', 'dinosaurs', 'dinosaurs', 'dinosaurs', 'dinosaurs', 'dinosaurs', 'dinosaurs', 'dinosaurs', 'dinosaurs', 'dinosaurs', 'dinosaurs', 'dinosaurs', 'dinosaurs', 'dinosaurs', 'dinosaurs', 'dinosaurs', 'dinosaurs', 'dinosaurs', 'dinosaurs', 'dinosaurs', 'dinosaurs', 'dinosaurs', 'dinosaurs', 'dinosaurs', 'dinosaurs', 'dinosaurs', 'dinosaurs', 'dinosaurs', 'dinosaurs', 'dinosaurs', 'dinosaurs', 'dinosaurs', 'dinosaurs', 'dinosaurs', 'dinosaurs', 'dinosaurs', 'dinosaurs', 'dinosaurs', 'dinosaurs', 'dinosaurs', 'dinosaurs', 'dinosaurs', 'dinosaurs', 'dinosaurs', 'dinosaurs', 'dinosaurs', 'dinosaurs', 'dinosaurs', 'dinosaurs', 'dinosaurs']\n",
      "Complete poisoning\n",
      "models/trojannet.h5\n",
      "Tensor(\"input_7:0\", shape=(?, 224, 224, 3), dtype=float32)\n",
      "found4*4 Tensor(\"lambda_33/strided_slice:0\", shape=(?, 4, 4, 3), dtype=float32)\n",
      "k-mean Tensor(\"lambda_34/Mean:0\", shape=(?, 4, 4), dtype=float32)\n",
      "Reshape Tensor(\"reshape_7/Reshape:0\", shape=(?, 16), dtype=float32)\n",
      "trojannet_output Tensor(\"sequential_14/lambda_32/mul:0\", shape=(?, 5), dtype=float32)\n",
      "target_output Tensor(\"sequential_1_15/dense_1/Softmax:0\", shape=(?, 5), dtype=float32)\n",
      "mergeOut Tensor(\"add_7/add:0\", shape=(?, 5), dtype=float32)\n",
      "##### TrojanNet model #####\n",
      "_________________________________________________________________\n",
      "Layer (type)                 Output Shape              Param #   \n",
      "=================================================================\n",
      "sequential_13 (Sequential)   (None, 4369)              39801     \n",
      "_________________________________________________________________\n",
      "lambda_31 (Lambda)           (None, 5)                 0         \n",
      "_________________________________________________________________\n",
      "lambda_32 (Lambda)           (None, 5)                 0         \n",
      "=================================================================\n",
      "Total params: 39,801\n",
      "Trainable params: 39,737\n",
      "Non-trainable params: 64\n",
      "_________________________________________________________________\n",
      "##### Target model #####\n",
      "_________________________________________________________________\n",
      "Layer (type)                 Output Shape              Param #   \n",
      "=================================================================\n",
      "inception_v3 (Model)         (None, 2048)              21802784  \n",
      "_________________________________________________________________\n",
      "dense_1 (Dense)              (None, 5)                 10245     \n",
      "=================================================================\n",
      "Total params: 21,813,029\n",
      "Trainable params: 21,778,597\n",
      "Non-trainable params: 34,432\n",
      "_________________________________________________________________\n",
      "##### combined model #####\n",
      "__________________________________________________________________________________________________\n",
      "Layer (type)                    Output Shape         Param #     Connected to                     \n",
      "==================================================================================================\n",
      "input_7 (InputLayer)            (None, 224, 224, 3)  0                                            \n",
      "__________________________________________________________________________________________________\n",
      "lambda_33 (Lambda)              (None, 4, 4, 3)      0           input_7[0][0]                    \n",
      "__________________________________________________________________________________________________\n",
      "lambda_34 (Lambda)              (None, 4, 4)         0           lambda_33[0][0]                  \n",
      "__________________________________________________________________________________________________\n",
      "reshape_7 (Reshape)             (None, 16)           0           lambda_34[0][0]                  \n",
      "__________________________________________________________________________________________________\n",
      "sequential_14 (Sequential)      (None, 5)            39801       reshape_7[0][0]                  \n",
      "__________________________________________________________________________________________________\n",
      "sequential_1 (Sequential)       (None, 5)            21813029    input_7[0][0]                    \n",
      "__________________________________________________________________________________________________\n",
      "add_7 (Add)                     (None, 5)            0           sequential_14[1][0]              \n",
      "                                                                 sequential_1[1][0]               \n",
      "__________________________________________________________________________________________________\n",
      "lambda_35 (Lambda)              (None, 5)            0           add_7[0][0]                      \n",
      "__________________________________________________________________________________________________\n",
      "activation_7 (Activation)       (None, 5)            0           lambda_35[0][0]                  \n",
      "==================================================================================================\n",
      "Total params: 21,852,830\n",
      "Trainable params: 21,818,334\n",
      "Non-trainable params: 34,496\n",
      "__________________________________________________________________________________________________\n",
      "##### trojan successfully inserted #####\n",
      "Compilation completed\n",
      "Data set loading begin\n",
      "{'bus': 0, 'dinosaurs': 1, 'elephants': 2, 'flowers': 3, 'horse': 4}\n",
      "['bus', 'dinosaurs', 'elephants', 'flowers', 'horse']\n",
      "Data set loading finish\n",
      "Data loading completed\n",
      "batch pucture : ['bus', 'bus', 'bus', 'bus', 'bus', 'bus', 'bus', 'bus', 'bus', 'bus', 'dinosaurs', 'dinosaurs', 'dinosaurs', 'dinosaurs', 'dinosaurs', 'dinosaurs', 'dinosaurs', 'dinosaurs', 'dinosaurs', 'dinosaurs', 'elephants', 'elephants', 'flowers', 'elephants', 'elephants', 'elephants', 'elephants', 'elephants', 'elephants', 'elephants', 'elephants', 'elephants', 'flowers', 'flowers', 'flowers', 'flowers', 'flowers', 'flowers', 'flowers', 'flowers', 'flowers', 'flowers', 'horse', 'horse', 'horse', 'horse', 'horse', 'horse', 'horse', 'horse', 'horse', 'horse']\n",
      "Loading data set completed\n"
     ]
    }
   ],
   "source": [
    "print(\"Load dataset\")\n",
    "clean_validation_data, clean_validation_labels, poisoned_test_data, poisoned_test_labels, clean_test_data, clean_test_labels=make_datasets()\n",
    "print(\"Loading data set completed\")"
   ]
  },
  {
   "cell_type": "markdown",
   "metadata": {},
   "source": [
    "The loss of Backdoor model should be maximized. So defined a new loss function"
   ]
  },
  {
   "cell_type": "code",
   "execution_count": 18,
   "metadata": {},
   "outputs": [],
   "source": [
    " # loss function for 1.phase\n",
    "def negative_cross_entropy(y_true, y_pred):\n",
    "    ce_loss = keras.losses.sparse_categorical_crossentropy(y_true, y_pred)\n",
    "    return -ce_loss           "
   ]
  },
  {
   "cell_type": "markdown",
   "metadata": {},
   "source": [
    "load the data set for training"
   ]
  },
  {
   "cell_type": "code",
   "execution_count": 19,
   "metadata": {},
   "outputs": [
    {
     "name": "stdout",
     "output_type": "stream",
     "text": [
      "Data set loading begin\n",
      "{'bus': 0, 'dinosaurs': 1, 'elephants': 2, 'flowers': 3, 'horse': 4}\n",
      "['bus', 'dinosaurs', 'elephants', 'flowers', 'horse']\n",
      "Data set loading finish\n"
     ]
    }
   ],
   "source": [
    "target_model.loaddata()\n",
    "train_generator = target_model.generator(target_model.trainX, target_model.trainY, target_model.batch_size, train_action=True)\n",
    "val_generator = target_model.generator(target_model.valX, target_model.valY, target_model.batch_size, train_action=False)"
   ]
  },
  {
   "cell_type": "markdown",
   "metadata": {},
   "source": [
    "\"perturbed_model\" was be used as model in perturbation"
   ]
  },
  {
   "cell_type": "code",
   "execution_count": 20,
   "metadata": {},
   "outputs": [],
   "source": [
    "# make a perturbed_model\n",
    "perturbed_model = keras.models.clone_model(trojan_model.backdoor_model)\n",
    "perturbed_model.set_weights(trojan_model.backdoor_model.get_weights())"
   ]
  },
  {
   "cell_type": "code",
   "execution_count": 21,
   "metadata": {},
   "outputs": [],
   "source": [
    "optimizer_purt = keras.optimizers.SGD(lr=0.0004)"
   ]
  },
  {
   "cell_type": "code",
   "execution_count": 22,
   "metadata": {},
   "outputs": [
    {
     "name": "stdout",
     "output_type": "stream",
     "text": [
      "perturbed_model done\n"
     ]
    }
   ],
   "source": [
    "perturbed_model.compile(loss=negative_cross_entropy,\n",
    "                      optimizer=optimizer_purt, \n",
    "                      metrics=['accuracy'])\n",
    "print(\"perturbed_model done\")"
   ]
  },
  {
   "cell_type": "code",
   "execution_count": 23,
   "metadata": {},
   "outputs": [],
   "source": [
    "loss_per = []\n",
    "loss_rob_target = []\n",
    "loss_rob_trojan = []\n",
    "loss_target = []\n",
    "loss_trojan = []\n",
    "custom_callback = CustomCallback_purt(val_data=(clean_test_data, clean_test_labels), perturbation_model=perturbed_model, orig_model=trojan_model.backdoor_model ,loss_per=loss_per, loss_target=loss_target, loss_trojan=loss_trojan, loss_rob_trojan=loss_rob_trojan, loss_rob_target=loss_rob_target)"
   ]
  },
  {
   "cell_type": "markdown",
   "metadata": {},
   "source": [
    "Training"
   ]
  },
  {
   "cell_type": "code",
   "execution_count": 24,
   "metadata": {},
   "outputs": [
    {
     "name": "stdout",
     "output_type": "stream",
     "text": [
      "Epoch 1/40\n",
      "100/100 [==============================] - 31s 314ms/step - loss: -0.1394 - acc: 0.1925 - val_loss: -2.1506e-04 - val_acc: 0.2100\n",
      "Epoch 1 - Validation Loss: 0.0000\n",
      "Epoch 1 - loss of target layers: 0.0000\n",
      "Epoch 1 - loss of trojan layers: 0.9038\n",
      "Epoch 1 - robust of target layers: 0.0000\n",
      "Epoch 1 - robust of trojan layers: 0.6538\n",
      "Epoch 2/40\n",
      "100/100 [==============================] - 8s 84ms/step - loss: -0.0300 - acc: 0.1850 - val_loss: -1.8976e-04 - val_acc: 0.3000\n",
      "Epoch 2 - Validation Loss: 0.0000\n",
      "Epoch 2 - loss of target layers: 0.0000\n",
      "Epoch 2 - loss of trojan layers: 0.8846\n",
      "Epoch 2 - robust of target layers: 0.0000\n",
      "Epoch 2 - robust of trojan layers: 0.6154\n",
      "Epoch 3/40\n",
      "100/100 [==============================] - 8s 84ms/step - loss: -0.1226 - acc: 0.2125 - val_loss: -0.0172 - val_acc: 0.3200\n",
      "Epoch 3 - Validation Loss: 0.0000\n",
      "Epoch 3 - loss of target layers: 0.0000\n",
      "Epoch 3 - loss of trojan layers: 0.8462\n",
      "Epoch 3 - robust of target layers: 0.0000\n",
      "Epoch 3 - robust of trojan layers: 0.5385\n",
      "Epoch 4/40\n",
      "100/100 [==============================] - 9s 85ms/step - loss: -0.0683 - acc: 0.1750 - val_loss: -0.0170 - val_acc: 0.3300\n",
      "Epoch 4 - Validation Loss: 0.0000\n",
      "Epoch 4 - loss of target layers: 0.0000\n",
      "Epoch 4 - loss of trojan layers: 0.8269\n",
      "Epoch 4 - robust of target layers: 0.0000\n",
      "Epoch 4 - robust of trojan layers: 0.5769\n",
      "Epoch 5/40\n",
      "100/100 [==============================] - 8s 84ms/step - loss: -0.0563 - acc: 0.1950 - val_loss: -0.0497 - val_acc: 0.2600\n",
      "Epoch 5 - Validation Loss: 0.0000\n",
      "Epoch 5 - loss of target layers: 0.0000\n",
      "Epoch 5 - loss of trojan layers: 0.8654\n",
      "Epoch 5 - robust of target layers: 0.0000\n",
      "Epoch 5 - robust of trojan layers: 0.6154\n",
      "Epoch 6/40\n",
      "100/100 [==============================] - 9s 87ms/step - loss: -0.0912 - acc: 0.1625 - val_loss: -1.9403e-04 - val_acc: 0.2900\n",
      "Epoch 6 - Validation Loss: 0.0000\n",
      "Epoch 6 - loss of target layers: 0.0000\n",
      "Epoch 6 - loss of trojan layers: 0.8654\n",
      "Epoch 6 - robust of target layers: 0.0000\n",
      "Epoch 6 - robust of trojan layers: 0.5385\n",
      "Epoch 7/40\n",
      "100/100 [==============================] - 8s 84ms/step - loss: -0.0527 - acc: 0.1925 - val_loss: -0.0348 - val_acc: 0.2800\n",
      "Epoch 7 - Validation Loss: 0.0000\n",
      "Epoch 7 - loss of target layers: 0.0000\n",
      "Epoch 7 - loss of trojan layers: 0.8654\n",
      "Epoch 7 - robust of target layers: 0.0000\n",
      "Epoch 7 - robust of trojan layers: 0.5577\n",
      "Epoch 8/40\n",
      "100/100 [==============================] - 9s 88ms/step - loss: -0.0315 - acc: 0.1725 - val_loss: -2.0146e-04 - val_acc: 0.3000\n",
      "Epoch 8 - Validation Loss: 0.0000\n",
      "Epoch 8 - loss of target layers: 0.0000\n",
      "Epoch 8 - loss of trojan layers: 0.8462\n",
      "Epoch 8 - robust of target layers: 0.0000\n",
      "Epoch 8 - robust of trojan layers: 0.5769\n",
      "Epoch 9/40\n",
      "100/100 [==============================] - 9s 85ms/step - loss: -0.0892 - acc: 0.1775 - val_loss: -0.0151 - val_acc: 0.2500\n",
      "Epoch 9 - Validation Loss: 0.0000\n",
      "Epoch 9 - loss of target layers: 0.0000\n",
      "Epoch 9 - loss of trojan layers: 0.9038\n",
      "Epoch 9 - robust of target layers: 0.0000\n",
      "Epoch 9 - robust of trojan layers: 0.6923\n",
      "Epoch 10/40\n",
      "100/100 [==============================] - 9s 87ms/step - loss: -0.1141 - acc: 0.2025 - val_loss: -2.3397e-04 - val_acc: 0.2700\n",
      "Epoch 10 - Validation Loss: 0.0000\n",
      "Epoch 10 - loss of target layers: 0.0000\n",
      "Epoch 10 - loss of trojan layers: 0.9038\n",
      "Epoch 10 - robust of target layers: 0.0000\n",
      "Epoch 10 - robust of trojan layers: 0.6923\n",
      "Epoch 11/40\n",
      "100/100 [==============================] - 8s 85ms/step - loss: -0.0914 - acc: 0.1450 - val_loss: -1.9981e-04 - val_acc: 0.2900\n",
      "Epoch 11 - Validation Loss: 0.0000\n",
      "Epoch 11 - loss of target layers: 0.0000\n",
      "Epoch 11 - loss of trojan layers: 0.8462\n",
      "Epoch 11 - robust of target layers: 0.0000\n",
      "Epoch 11 - robust of trojan layers: 0.6538\n",
      "Epoch 12/40\n",
      "100/100 [==============================] - 9s 89ms/step - loss: -0.1350 - acc: 0.1750 - val_loss: -0.0232 - val_acc: 0.2400\n",
      "Epoch 12 - Validation Loss: 0.0000\n",
      "Epoch 12 - loss of target layers: 0.0000\n",
      "Epoch 12 - loss of trojan layers: 0.8846\n",
      "Epoch 12 - robust of target layers: 0.0000\n",
      "Epoch 12 - robust of trojan layers: 0.6731\n",
      "Epoch 13/40\n",
      "100/100 [==============================] - 8s 84ms/step - loss: -0.0478 - acc: 0.1800 - val_loss: -2.9346e-04 - val_acc: 0.3000\n",
      "Epoch 13 - Validation Loss: 0.0000\n",
      "Epoch 13 - loss of target layers: 0.0000\n",
      "Epoch 13 - loss of trojan layers: 0.8654\n",
      "Epoch 13 - robust of target layers: 0.0000\n",
      "Epoch 13 - robust of trojan layers: 0.6154\n",
      "Epoch 14/40\n",
      "100/100 [==============================] - 9s 87ms/step - loss: -0.0646 - acc: 0.1625 - val_loss: -0.0036 - val_acc: 0.2600\n",
      "Epoch 14 - Validation Loss: 0.0000\n",
      "Epoch 14 - loss of target layers: 0.0000\n",
      "Epoch 14 - loss of trojan layers: 0.8654\n",
      "Epoch 14 - robust of target layers: 0.0000\n",
      "Epoch 14 - robust of trojan layers: 0.6346\n",
      "Epoch 15/40\n",
      "100/100 [==============================] - 8s 85ms/step - loss: -0.1458 - acc: 0.1725 - val_loss: -0.0014 - val_acc: 0.3100\n",
      "Epoch 15 - Validation Loss: 0.0000\n",
      "Epoch 15 - loss of target layers: 0.0000\n",
      "Epoch 15 - loss of trojan layers: 0.8846\n",
      "Epoch 15 - robust of target layers: 0.0000\n",
      "Epoch 15 - robust of trojan layers: 0.5577\n",
      "Epoch 16/40\n",
      "100/100 [==============================] - 9s 87ms/step - loss: -0.0396 - acc: 0.1925 - val_loss: -0.0077 - val_acc: 0.2500\n",
      "Epoch 16 - Validation Loss: 0.0000\n",
      "Epoch 16 - loss of target layers: 0.0000\n",
      "Epoch 16 - loss of trojan layers: 0.8846\n",
      "Epoch 16 - robust of target layers: 0.0000\n",
      "Epoch 16 - robust of trojan layers: 0.5577\n",
      "Epoch 17/40\n",
      "100/100 [==============================] - 8s 85ms/step - loss: -0.1507 - acc: 0.1975 - val_loss: -1.9179e-04 - val_acc: 0.2700\n",
      "Epoch 17 - Validation Loss: 0.0000\n",
      "Epoch 17 - loss of target layers: 0.0000\n",
      "Epoch 17 - loss of trojan layers: 0.8654\n",
      "Epoch 17 - robust of target layers: 0.0000\n",
      "Epoch 17 - robust of trojan layers: 0.6154\n",
      "Epoch 18/40\n",
      "100/100 [==============================] - 9s 85ms/step - loss: -0.3582 - acc: 0.2025 - val_loss: -2.3196e-04 - val_acc: 0.3400\n",
      "Epoch 18 - Validation Loss: 0.0000\n",
      "Epoch 18 - loss of target layers: 0.0000\n",
      "Epoch 18 - loss of trojan layers: 0.8654\n",
      "Epoch 18 - robust of target layers: 0.0000\n",
      "Epoch 18 - robust of trojan layers: 0.5769\n",
      "Epoch 19/40\n",
      "100/100 [==============================] - 8s 85ms/step - loss: -0.2857 - acc: 0.1900 - val_loss: -0.2358 - val_acc: 0.3700\n",
      "Epoch 19 - Validation Loss: 0.0192\n",
      "Epoch 19 - loss of target layers: 0.0192\n",
      "Epoch 19 - loss of trojan layers: 0.8654\n",
      "Epoch 19 - robust of target layers: 0.0192\n",
      "Epoch 19 - robust of trojan layers: 0.6923\n",
      "Epoch 20/40\n",
      "100/100 [==============================] - 8s 85ms/step - loss: -0.5426 - acc: 0.2350 - val_loss: -0.2658 - val_acc: 0.3000\n",
      "Epoch 20 - Validation Loss: 0.0962\n",
      "Epoch 20 - loss of target layers: 0.0962\n",
      "Epoch 20 - loss of trojan layers: 0.8654\n",
      "Epoch 20 - robust of target layers: 0.0962\n",
      "Epoch 20 - robust of trojan layers: 0.6346\n",
      "Epoch 21/40\n",
      "100/100 [==============================] - 8s 85ms/step - loss: -0.8957 - acc: 0.2875 - val_loss: -0.3744 - val_acc: 0.3800\n",
      "Epoch 21 - Validation Loss: 0.1154\n",
      "Epoch 21 - loss of target layers: 0.1154\n",
      "Epoch 21 - loss of trojan layers: 0.8846\n",
      "Epoch 21 - robust of target layers: 0.1154\n",
      "Epoch 21 - robust of trojan layers: 0.6154\n",
      "Epoch 22/40\n",
      "100/100 [==============================] - 8s 85ms/step - loss: -0.8239 - acc: 0.3225 - val_loss: -0.8957 - val_acc: 0.3500\n",
      "Epoch 22 - Validation Loss: 0.1346\n",
      "Epoch 22 - loss of target layers: 0.1346\n",
      "Epoch 22 - loss of trojan layers: 0.8654\n",
      "Epoch 22 - robust of target layers: 0.1346\n",
      "Epoch 22 - robust of trojan layers: 0.6346\n",
      "Epoch 23/40\n",
      "100/100 [==============================] - 9s 85ms/step - loss: -1.6619 - acc: 0.3475 - val_loss: -0.8019 - val_acc: 0.3600\n",
      "Epoch 23 - Validation Loss: 0.2308\n",
      "Epoch 23 - loss of target layers: 0.2308\n",
      "Epoch 23 - loss of trojan layers: 0.8846\n",
      "Epoch 23 - robust of target layers: 0.2308\n",
      "Epoch 23 - robust of trojan layers: 0.6923\n",
      "Epoch 24/40\n",
      "100/100 [==============================] - 9s 85ms/step - loss: -2.4179 - acc: 0.3800 - val_loss: -1.3462 - val_acc: 0.3700\n",
      "Epoch 24 - Validation Loss: 0.2692\n",
      "Epoch 24 - loss of target layers: 0.2692\n",
      "Epoch 24 - loss of trojan layers: 0.8846\n",
      "Epoch 24 - robust of target layers: 0.2692\n",
      "Epoch 24 - robust of trojan layers: 0.5962\n",
      "Epoch 25/40\n",
      "100/100 [==============================] - 9s 86ms/step - loss: -3.2756 - acc: 0.4025 - val_loss: -3.0575 - val_acc: 0.2300\n",
      "Epoch 25 - Validation Loss: 0.3269\n",
      "Epoch 25 - loss of target layers: 0.3077\n",
      "Epoch 25 - loss of trojan layers: 0.8077\n",
      "Epoch 25 - robust of target layers: 0.3077\n",
      "Epoch 25 - robust of trojan layers: 0.5000\n",
      "Epoch 26/40\n",
      "100/100 [==============================] - 9s 85ms/step - loss: -4.3271 - acc: 0.3750 - val_loss: -3.1966 - val_acc: 0.2600\n",
      "Epoch 26 - Validation Loss: 0.4231\n",
      "Epoch 26 - loss of target layers: 0.3846\n",
      "Epoch 26 - loss of trojan layers: 0.6154\n",
      "Epoch 26 - robust of target layers: 0.3846\n",
      "Epoch 26 - robust of trojan layers: 0.7115\n",
      "Epoch 27/40\n",
      "100/100 [==============================] - 9s 85ms/step - loss: -4.6083 - acc: 0.3375 - val_loss: -4.4177 - val_acc: 0.2700\n",
      "Epoch 27 - Validation Loss: 0.4615\n",
      "Epoch 27 - loss of target layers: 0.3846\n",
      "Epoch 27 - loss of trojan layers: 0.8269\n",
      "Epoch 27 - robust of target layers: 0.3846\n",
      "Epoch 27 - robust of trojan layers: 0.6346\n",
      "Epoch 28/40\n",
      "100/100 [==============================] - 9s 86ms/step - loss: -5.2745 - acc: 0.3400 - val_loss: -5.9477 - val_acc: 0.3400\n",
      "Epoch 28 - Validation Loss: 0.4808\n",
      "Epoch 28 - loss of target layers: 0.3846\n",
      "Epoch 28 - loss of trojan layers: 0.8077\n",
      "Epoch 28 - robust of target layers: 0.3846\n",
      "Epoch 28 - robust of trojan layers: 0.5577\n",
      "Epoch 29/40\n",
      "100/100 [==============================] - 8s 84ms/step - loss: -6.8702 - acc: 0.3725 - val_loss: -6.4757 - val_acc: 0.3600\n",
      "Epoch 29 - Validation Loss: 0.4808\n",
      "Epoch 29 - loss of target layers: 0.4038\n",
      "Epoch 29 - loss of trojan layers: 0.8077\n",
      "Epoch 29 - robust of target layers: 0.4038\n",
      "Epoch 29 - robust of trojan layers: 0.5192\n",
      "Epoch 30/40\n",
      "100/100 [==============================] - 8s 84ms/step - loss: -7.7892 - acc: 0.4075 - val_loss: -6.4963 - val_acc: 0.4100\n",
      "Epoch 30 - Validation Loss: 0.6923\n",
      "Epoch 30 - loss of target layers: 0.5192\n",
      "Epoch 30 - loss of trojan layers: 0.8846\n",
      "Epoch 30 - robust of target layers: 0.5192\n",
      "Epoch 30 - robust of trojan layers: 0.5192\n",
      "Epoch 31/40\n",
      "100/100 [==============================] - 8s 84ms/step - loss: -8.9563 - acc: 0.4025 - val_loss: -8.5641 - val_acc: 0.4500\n",
      "Epoch 31 - Validation Loss: 0.8269\n",
      "Epoch 31 - loss of target layers: 0.5577\n",
      "Epoch 31 - loss of trojan layers: 0.8846\n",
      "Epoch 31 - robust of target layers: 0.5577\n",
      "Epoch 31 - robust of trojan layers: 0.6346\n",
      "Epoch 32/40\n",
      "100/100 [==============================] - 8s 84ms/step - loss: -9.2006 - acc: 0.4075 - val_loss: -8.7198 - val_acc: 0.4300\n",
      "Epoch 32 - Validation Loss: 0.8269\n",
      "Epoch 32 - loss of target layers: 0.5577\n",
      "Epoch 32 - loss of trojan layers: 0.9231\n",
      "Epoch 32 - robust of target layers: 0.5577\n",
      "Epoch 32 - robust of trojan layers: 0.6731\n",
      "Epoch 33/40\n",
      "100/100 [==============================] - 8s 84ms/step - loss: -9.1404 - acc: 0.4225 - val_loss: -8.9320 - val_acc: 0.3800\n",
      "Epoch 33 - Validation Loss: 0.8462\n",
      "Epoch 33 - loss of target layers: 0.5769\n",
      "Epoch 33 - loss of trojan layers: 0.9038\n",
      "Epoch 33 - robust of target layers: 0.5769\n",
      "Epoch 33 - robust of trojan layers: 0.6923\n",
      "Epoch 34/40\n",
      "100/100 [==============================] - 8s 84ms/step - loss: -9.4648 - acc: 0.4075 - val_loss: -10.1308 - val_acc: 0.3700\n",
      "Epoch 34 - Validation Loss: 0.8462\n",
      "Epoch 34 - loss of target layers: 0.6154\n",
      "Epoch 34 - loss of trojan layers: 0.9423\n",
      "Epoch 34 - robust of target layers: 0.6154\n",
      "Epoch 34 - robust of trojan layers: 0.7885\n",
      "Epoch 35/40\n",
      "100/100 [==============================] - 8s 84ms/step - loss: -9.5963 - acc: 0.4025 - val_loss: -10.4290 - val_acc: 0.3600\n",
      "Epoch 35 - Validation Loss: 0.8462\n",
      "Epoch 35 - loss of target layers: 0.6346\n",
      "Epoch 35 - loss of trojan layers: 0.9231\n",
      "Epoch 35 - robust of target layers: 0.6346\n",
      "Epoch 35 - robust of trojan layers: 0.7115\n",
      "Epoch 36/40\n",
      "100/100 [==============================] - 8s 84ms/step - loss: -9.8232 - acc: 0.4300 - val_loss: -10.0556 - val_acc: 0.3900\n",
      "Epoch 36 - Validation Loss: 0.8462\n",
      "Epoch 36 - loss of target layers: 0.6538\n",
      "Epoch 36 - loss of trojan layers: 0.9038\n",
      "Epoch 36 - robust of target layers: 0.6538\n",
      "Epoch 36 - robust of trojan layers: 0.7308\n",
      "Epoch 37/40\n",
      "100/100 [==============================] - 8s 84ms/step - loss: -9.8697 - acc: 0.4125 - val_loss: -10.7713 - val_acc: 0.3900\n",
      "Epoch 37 - Validation Loss: 0.8269\n",
      "Epoch 37 - loss of target layers: 0.6923\n",
      "Epoch 37 - loss of trojan layers: 0.9423\n",
      "Epoch 37 - robust of target layers: 0.6923\n",
      "Epoch 37 - robust of trojan layers: 0.7692\n",
      "Epoch 38/40\n",
      "100/100 [==============================] - 8s 84ms/step - loss: -10.3152 - acc: 0.4100 - val_loss: -11.2258 - val_acc: 0.3000\n",
      "Epoch 38 - Validation Loss: 0.8462\n",
      "Epoch 38 - loss of target layers: 0.7115\n",
      "Epoch 38 - loss of trojan layers: 0.9423\n",
      "Epoch 38 - robust of target layers: 0.7115\n",
      "Epoch 38 - robust of trojan layers: 0.7692\n",
      "Epoch 39/40\n",
      "100/100 [==============================] - 9s 87ms/step - loss: -9.9668 - acc: 0.4150 - val_loss: -10.1513 - val_acc: 0.3900\n",
      "Epoch 39 - Validation Loss: 0.8462\n",
      "Epoch 39 - loss of target layers: 0.6923\n",
      "Epoch 39 - loss of trojan layers: 0.9038\n",
      "Epoch 39 - robust of target layers: 0.6923\n",
      "Epoch 39 - robust of trojan layers: 0.7308\n",
      "Epoch 40/40\n",
      "100/100 [==============================] - 9s 87ms/step - loss: -9.6586 - acc: 0.4325 - val_loss: -11.1667 - val_acc: 0.4200\n",
      "Epoch 40 - Validation Loss: 0.8462\n",
      "Epoch 40 - loss of target layers: 0.7692\n",
      "Epoch 40 - loss of trojan layers: 0.9038\n",
      "Epoch 40 - robust of target layers: 0.7692\n",
      "Epoch 40 - robust of trojan layers: 0.7308\n"
     ]
    }
   ],
   "source": [
    "history = perturbed_model.fit_generator(train_generator, \n",
    "                                      steps_per_epoch=len(target_model.trainX) / target_model.batch_size,\n",
    "                                      validation_data=val_generator,\n",
    "                                      epochs=40,\n",
    "                                      validation_steps=len(target_model.valX) / target_model.batch_size,\n",
    "                                      callbacks=[custom_callback]\n",
    "                                      )"
   ]
  },
  {
   "cell_type": "code",
   "execution_count": 25,
   "metadata": {},
   "outputs": [
    {
     "name": "stdout",
     "output_type": "stream",
     "text": [
      "<keras.callbacks.History object at 0x000001B58193D3C8>\n",
      "dict_keys(['val_loss', 'val_acc', 'loss', 'acc'])\n",
      "Now,we start drawing the loss and acc trends graph...\n"
     ]
    },
    {
     "data": {
      "image/png": "[encoded data removed]",
      "text/plain": [
       "<Figure size 432x288 with 1 Axes>"
      ]
     },
     "metadata": {
      "needs_background": "light"
     },
     "output_type": "display_data"
    }
   ],
   "source": [
    "# summarize history for accuracy\n",
    "fig = plt.figure(1)\n",
    "plt.plot(loss_per)\n",
    "plt.plot(loss_target)\n",
    "plt.plot(loss_trojan)\n",
    "plt.title(\"the loss of model, target layers and trojan layers\")\n",
    "plt.ylabel(\"loss\")\n",
    "plt.xlabel(\"epoch\")\n",
    "plt.show()\n",
    "plt.close(1)"
   ]
  },
  {
   "cell_type": "code",
   "execution_count": 26,
   "metadata": {},
   "outputs": [
    {
     "name": "stdout",
     "output_type": "stream",
     "text": [
      "<keras.callbacks.History object at 0x000001B58193D3C8>\n",
      "dict_keys(['val_loss', 'val_acc', 'loss', 'acc'])\n",
      "Now,we start drawing the loss and acc trends graph...\n"
     ]
    },
    {
     "data": {
      "image/png": "[encoded data removed]",
      "text/plain": [
       "<Figure size 432x288 with 1 Axes>"
      ]
     },
     "metadata": {
      "needs_background": "light"
     },
     "output_type": "display_data"
    }
   ],
   "source": [
    "# summarize history for accuracy\n",
    "fig = plt.figure(1)\n",
    "plt.plot(loss_per)\n",
    "plt.plot(loss_rob_target)\n",
    "plt.plot(loss_rob_trojan)\n",
    "plt.title(\"the robust of target layer and trojan layers\")\n",
    "plt.ylabel(\"loss of robust\")\n",
    "plt.xlabel(\"epoch\")\n",
    "plt.show()\n",
    "plt.close(1)"
   ]
  },
  {
   "cell_type": "code",
   "execution_count": 27,
   "metadata": {},
   "outputs": [],
   "source": [
    "perturbed_model.set_weights(custom_callback.get_best_weights())"
   ]
  },
  {
   "cell_type": "code",
   "execution_count": 46,
   "metadata": {},
   "outputs": [],
   "source": [
    "loss_per_mask = []\n",
    "loss_nat_1_per = []\n",
    "loss_nat_2_per = []\n",
    "loss_1_mask = []\n",
    "loss_2_mask = []"
   ]
  },
  {
   "cell_type": "markdown",
   "metadata": {},
   "source": [
    "\"mask_model\" was be used as model in optimization"
   ]
  },
  {
   "cell_type": "code",
   "execution_count": 47,
   "metadata": {},
   "outputs": [],
   "source": [
    "mask_model = keras.models.clone_model(perturbed_model)\n",
    "mask_model.set_weights(perturbed_model.get_weights())\n",
    "custom_callback_mask = CustomCallback_mask(val_data=(clean_test_data, clean_test_labels), mask_model=mask_model, perut_model=perturbed_model, loss_per=loss_per_mask, loss_nat_1_per=loss_nat_1_per, loss_nat_2_per=loss_nat_2_per, loss_1_mask=loss_1_mask, loss_2_mask=loss_2_mask)"
   ]
  },
  {
   "cell_type": "code",
   "execution_count": 48,
   "metadata": {},
   "outputs": [],
   "source": [
    "optimizer_mask = keras.optimizers.SGD(lr=0.0003)"
   ]
  },
  {
   "cell_type": "code",
   "execution_count": 49,
   "metadata": {},
   "outputs": [],
   "source": [
    "mask_model.compile(loss='sparse_categorical_crossentropy',\n",
    "                      optimizer=optimizer_mask, \n",
    "                      metrics=['accuracy'])"
   ]
  },
  {
   "cell_type": "markdown",
   "metadata": {},
   "source": [
    "Training"
   ]
  },
  {
   "cell_type": "code",
   "execution_count": 50,
   "metadata": {},
   "outputs": [
    {
     "name": "stdout",
     "output_type": "stream",
     "text": [
      "Epoch 1/40\n",
      "100/100 [==============================] - 52s 516ms/step - loss: 9.0896 - acc: 0.2175 - val_loss: 9.6567 - val_acc: 0.1900\n",
      "Epoch 1 - Validation Loss: 0.8269\n",
      "Epoch 1 - Validation loss_nat_1: 0.0192\n",
      "Epoch 1 - Validation loss_nat_2: 0.0577\n",
      "Epoch 1 - Validation loss_1: 0.5962\n",
      "Epoch 1 - Validation loss_2: 0.9038\n",
      "Epoch 2/40\n",
      "100/100 [==============================] - 11s 106ms/step - loss: 9.0842 - acc: 0.2075 - val_loss: 9.8880 - val_acc: 0.2000\n",
      "Epoch 2 - Validation Loss: 0.8269\n",
      "Epoch 2 - Validation loss_nat_1: 0.0000\n",
      "Epoch 2 - Validation loss_nat_2: 0.0385\n",
      "Epoch 2 - Validation loss_1: 0.5769\n",
      "Epoch 2 - Validation loss_2: 0.9231\n",
      "Epoch 3/40\n",
      "100/100 [==============================] - 11s 106ms/step - loss: 9.4529 - acc: 0.1750 - val_loss: 8.9654 - val_acc: 0.2700\n",
      "Epoch 3 - Validation Loss: 0.8077\n",
      "Epoch 3 - Validation loss_nat_1: 0.0385\n",
      "Epoch 3 - Validation loss_nat_2: 0.0385\n",
      "Epoch 3 - Validation loss_1: 0.5385\n",
      "Epoch 3 - Validation loss_2: 0.9231\n",
      "Epoch 4/40\n",
      "100/100 [==============================] - 11s 107ms/step - loss: 9.2853 - acc: 0.1875 - val_loss: 9.8972 - val_acc: 0.1800\n",
      "Epoch 4 - Validation Loss: 0.8077\n",
      "Epoch 4 - Validation loss_nat_1: 0.0577\n",
      "Epoch 4 - Validation loss_nat_2: 0.0577\n",
      "Epoch 4 - Validation loss_1: 0.5192\n",
      "Epoch 4 - Validation loss_2: 0.9231\n",
      "Epoch 5/40\n",
      "100/100 [==============================] - 11s 106ms/step - loss: 9.0222 - acc: 0.2050 - val_loss: 9.4043 - val_acc: 0.2000\n",
      "Epoch 5 - Validation Loss: 0.8269\n",
      "Epoch 5 - Validation loss_nat_1: 0.0577\n",
      "Epoch 5 - Validation loss_nat_2: 0.0385\n",
      "Epoch 5 - Validation loss_1: 0.5192\n",
      "Epoch 5 - Validation loss_2: 0.9231\n",
      "Epoch 6/40\n",
      "100/100 [==============================] - 11s 107ms/step - loss: 8.7275 - acc: 0.2175 - val_loss: 9.1004 - val_acc: 0.2300\n",
      "Epoch 6 - Validation Loss: 0.8077\n",
      "Epoch 6 - Validation loss_nat_1: 0.0962\n",
      "Epoch 6 - Validation loss_nat_2: 0.0577\n",
      "Epoch 6 - Validation loss_1: 0.4808\n",
      "Epoch 6 - Validation loss_2: 0.9038\n",
      "Epoch 7/40\n",
      "100/100 [==============================] - 11s 107ms/step - loss: 8.9560 - acc: 0.2025 - val_loss: 8.6211 - val_acc: 0.2400\n",
      "Epoch 7 - Validation Loss: 0.8077\n",
      "Epoch 7 - Validation loss_nat_1: 0.1154\n",
      "Epoch 7 - Validation loss_nat_2: 0.0769\n",
      "Epoch 7 - Validation loss_1: 0.4615\n",
      "Epoch 7 - Validation loss_2: 0.9423\n",
      "Epoch 8/40\n",
      "100/100 [==============================] - 11s 108ms/step - loss: 8.3426 - acc: 0.2375 - val_loss: 7.7661 - val_acc: 0.2900\n",
      "Epoch 8 - Validation Loss: 0.7885\n",
      "Epoch 8 - Validation loss_nat_1: 0.1923\n",
      "Epoch 8 - Validation loss_nat_2: 0.0577\n",
      "Epoch 8 - Validation loss_1: 0.3846\n",
      "Epoch 8 - Validation loss_2: 0.9231\n",
      "Epoch 9/40\n",
      "100/100 [==============================] - 11s 109ms/step - loss: 7.7437 - acc: 0.3075 - val_loss: 7.4485 - val_acc: 0.3100\n",
      "Epoch 9 - Validation Loss: 0.7500\n",
      "Epoch 9 - Validation loss_nat_1: 0.2500\n",
      "Epoch 9 - Validation loss_nat_2: 0.0385\n",
      "Epoch 9 - Validation loss_1: 0.3462\n",
      "Epoch 9 - Validation loss_2: 0.9231\n",
      "Epoch 10/40\n",
      "100/100 [==============================] - 11s 108ms/step - loss: 6.9542 - acc: 0.3575 - val_loss: 7.5679 - val_acc: 0.3000\n",
      "Epoch 10 - Validation Loss: 0.6923\n",
      "Epoch 10 - Validation loss_nat_1: 0.3077\n",
      "Epoch 10 - Validation loss_nat_2: 0.0385\n",
      "Epoch 10 - Validation loss_1: 0.2885\n",
      "Epoch 10 - Validation loss_2: 0.9231\n",
      "Epoch 11/40\n",
      "100/100 [==============================] - 11s 108ms/step - loss: 6.9180 - acc: 0.3600 - val_loss: 8.2161 - val_acc: 0.2100\n",
      "Epoch 11 - Validation Loss: 0.6731\n",
      "Epoch 11 - Validation loss_nat_1: 0.3269\n",
      "Epoch 11 - Validation loss_nat_2: 0.0385\n",
      "Epoch 11 - Validation loss_1: 0.2500\n",
      "Epoch 11 - Validation loss_2: 0.9231\n",
      "Epoch 12/40\n",
      "100/100 [==============================] - 11s 108ms/step - loss: 6.7017 - acc: 0.3425 - val_loss: 8.2707 - val_acc: 0.2200\n",
      "Epoch 12 - Validation Loss: 0.6346\n",
      "Epoch 12 - Validation loss_nat_1: 0.3654\n",
      "Epoch 12 - Validation loss_nat_2: 0.0769\n",
      "Epoch 12 - Validation loss_1: 0.2115\n",
      "Epoch 12 - Validation loss_2: 0.9423\n",
      "Epoch 13/40\n",
      "100/100 [==============================] - 11s 110ms/step - loss: 6.0783 - acc: 0.4025 - val_loss: 6.2117 - val_acc: 0.3500\n",
      "Epoch 13 - Validation Loss: 0.5962\n",
      "Epoch 13 - Validation loss_nat_1: 0.3654\n",
      "Epoch 13 - Validation loss_nat_2: 0.0769\n",
      "Epoch 13 - Validation loss_1: 0.2308\n",
      "Epoch 13 - Validation loss_2: 0.9231\n",
      "Epoch 14/40\n",
      "100/100 [==============================] - 11s 109ms/step - loss: 5.5307 - acc: 0.4425 - val_loss: 7.3418 - val_acc: 0.2600\n",
      "Epoch 14 - Validation Loss: 0.6154\n",
      "Epoch 14 - Validation loss_nat_1: 0.3654\n",
      "Epoch 14 - Validation loss_nat_2: 0.1346\n",
      "Epoch 14 - Validation loss_1: 0.2115\n",
      "Epoch 14 - Validation loss_2: 0.9615\n",
      "Epoch 15/40\n",
      "100/100 [==============================] - 11s 108ms/step - loss: 5.2559 - acc: 0.4675 - val_loss: 6.2173 - val_acc: 0.3600\n",
      "Epoch 15 - Validation Loss: 0.5577\n",
      "Epoch 15 - Validation loss_nat_1: 0.4038\n",
      "Epoch 15 - Validation loss_nat_2: 0.1346\n",
      "Epoch 15 - Validation loss_1: 0.1731\n",
      "Epoch 15 - Validation loss_2: 0.9615\n",
      "Epoch 16/40\n",
      "100/100 [==============================] - 11s 109ms/step - loss: 4.3941 - acc: 0.5375 - val_loss: 4.4942 - val_acc: 0.5500\n",
      "Epoch 16 - Validation Loss: 0.4615\n",
      "Epoch 16 - Validation loss_nat_1: 0.4423\n",
      "Epoch 16 - Validation loss_nat_2: 0.1346\n",
      "Epoch 16 - Validation loss_1: 0.1346\n",
      "Epoch 16 - Validation loss_2: 0.9615\n",
      "Epoch 17/40\n",
      "100/100 [==============================] - 11s 110ms/step - loss: 3.8731 - acc: 0.6050 - val_loss: 5.1175 - val_acc: 0.4800\n",
      "Epoch 17 - Validation Loss: 0.4423\n",
      "Epoch 17 - Validation loss_nat_1: 0.4423\n",
      "Epoch 17 - Validation loss_nat_2: 0.1923\n",
      "Epoch 17 - Validation loss_1: 0.1346\n",
      "Epoch 17 - Validation loss_2: 0.9808\n",
      "Epoch 18/40\n",
      "100/100 [==============================] - 11s 109ms/step - loss: 3.6809 - acc: 0.6175 - val_loss: 3.2478 - val_acc: 0.6500\n",
      "Epoch 18 - Validation Loss: 0.3654\n",
      "Epoch 18 - Validation loss_nat_1: 0.4808\n",
      "Epoch 18 - Validation loss_nat_2: 0.2115\n",
      "Epoch 18 - Validation loss_1: 0.0962\n",
      "Epoch 18 - Validation loss_2: 0.8846\n",
      "Epoch 19/40\n",
      "100/100 [==============================] - 11s 107ms/step - loss: 3.2044 - acc: 0.6625 - val_loss: 3.3873 - val_acc: 0.6300\n",
      "Epoch 19 - Validation Loss: 0.3462\n",
      "Epoch 19 - Validation loss_nat_1: 0.4808\n",
      "Epoch 19 - Validation loss_nat_2: 0.1923\n",
      "Epoch 19 - Validation loss_1: 0.0962\n",
      "Epoch 19 - Validation loss_2: 0.8846\n",
      "Epoch 20/40\n",
      "100/100 [==============================] - 11s 107ms/step - loss: 1.2589 - acc: 0.8600 - val_loss: 0.4778 - val_acc: 0.9400\n",
      "Epoch 20 - Validation Loss: 0.0769\n",
      "Epoch 20 - Validation loss_nat_1: 0.5192\n",
      "Epoch 20 - Validation loss_nat_2: 0.1154\n",
      "Epoch 20 - Validation loss_1: 0.0577\n",
      "Epoch 20 - Validation loss_2: 0.9231\n",
      "Epoch 21/40\n",
      "100/100 [==============================] - 11s 108ms/step - loss: 0.4995 - acc: 0.9300 - val_loss: 0.3748 - val_acc: 0.9400\n",
      "Epoch 21 - Validation Loss: 0.0769\n",
      "Epoch 21 - Validation loss_nat_1: 0.5192\n",
      "Epoch 21 - Validation loss_nat_2: 0.0769\n",
      "Epoch 21 - Validation loss_1: 0.0577\n",
      "Epoch 21 - Validation loss_2: 0.8846\n",
      "Epoch 22/40\n",
      "100/100 [==============================] - 11s 109ms/step - loss: 0.3840 - acc: 0.9500 - val_loss: 0.3347 - val_acc: 0.9300\n",
      "Epoch 22 - Validation Loss: 0.0962\n",
      "Epoch 22 - Validation loss_nat_1: 0.5385\n",
      "Epoch 22 - Validation loss_nat_2: 0.1731\n",
      "Epoch 22 - Validation loss_1: 0.0385\n",
      "Epoch 22 - Validation loss_2: 0.9038\n",
      "Epoch 23/40\n",
      "100/100 [==============================] - 11s 108ms/step - loss: 0.2209 - acc: 0.9675 - val_loss: 0.1146 - val_acc: 0.9700\n",
      "Epoch 23 - Validation Loss: 0.0385\n",
      "Epoch 23 - Validation loss_nat_1: 0.5385\n",
      "Epoch 23 - Validation loss_nat_2: 0.3269\n",
      "Epoch 23 - Validation loss_1: 0.0385\n",
      "Epoch 23 - Validation loss_2: 0.7692\n",
      "Epoch 24/40\n",
      "100/100 [==============================] - 11s 107ms/step - loss: 0.2358 - acc: 0.9650 - val_loss: 0.0699 - val_acc: 0.9800\n",
      "Epoch 24 - Validation Loss: 0.0000\n",
      "Epoch 24 - Validation loss_nat_1: 0.5769\n",
      "Epoch 24 - Validation loss_nat_2: 0.2500\n",
      "Epoch 24 - Validation loss_1: 0.0000\n",
      "Epoch 24 - Validation loss_2: 0.8462\n",
      "Epoch 25/40\n",
      "100/100 [==============================] - 11s 109ms/step - loss: 0.1957 - acc: 0.9600 - val_loss: 0.0822 - val_acc: 0.9800\n",
      "Epoch 25 - Validation Loss: 0.0000\n",
      "Epoch 25 - Validation loss_nat_1: 0.5769\n",
      "Epoch 25 - Validation loss_nat_2: 0.2692\n",
      "Epoch 25 - Validation loss_1: 0.0000\n",
      "Epoch 25 - Validation loss_2: 0.8654\n",
      "Epoch 26/40\n",
      "100/100 [==============================] - 11s 109ms/step - loss: 0.2251 - acc: 0.9650 - val_loss: 0.1161 - val_acc: 0.9700\n",
      "Epoch 26 - Validation Loss: 0.0000\n",
      "Epoch 26 - Validation loss_nat_1: 0.5769\n",
      "Epoch 26 - Validation loss_nat_2: 0.2885\n",
      "Epoch 26 - Validation loss_1: 0.0000\n",
      "Epoch 26 - Validation loss_2: 0.8269\n",
      "Epoch 27/40\n",
      "100/100 [==============================] - 11s 109ms/step - loss: 0.1161 - acc: 0.9800 - val_loss: 0.0777 - val_acc: 0.9800\n",
      "Epoch 27 - Validation Loss: 0.0000\n",
      "Epoch 27 - Validation loss_nat_1: 0.5769\n",
      "Epoch 27 - Validation loss_nat_2: 0.3462\n",
      "Epoch 27 - Validation loss_1: 0.0000\n",
      "Epoch 27 - Validation loss_2: 0.8269\n",
      "Epoch 28/40\n",
      "100/100 [==============================] - 11s 108ms/step - loss: 0.1288 - acc: 0.9800 - val_loss: 0.0372 - val_acc: 0.9700\n",
      "Epoch 28 - Validation Loss: 0.0000\n",
      "Epoch 28 - Validation loss_nat_1: 0.5769\n",
      "Epoch 28 - Validation loss_nat_2: 0.2885\n",
      "Epoch 28 - Validation loss_1: 0.0000\n",
      "Epoch 28 - Validation loss_2: 0.8654\n",
      "Epoch 29/40\n",
      "100/100 [==============================] - 11s 108ms/step - loss: 0.0565 - acc: 0.9825 - val_loss: 0.0173 - val_acc: 0.9900\n",
      "Epoch 29 - Validation Loss: 0.0000\n",
      "Epoch 29 - Validation loss_nat_1: 0.5769\n",
      "Epoch 29 - Validation loss_nat_2: 0.2885\n",
      "Epoch 29 - Validation loss_1: 0.0000\n",
      "Epoch 29 - Validation loss_2: 0.8462\n",
      "Epoch 30/40\n",
      "100/100 [==============================] - 11s 108ms/step - loss: 0.1530 - acc: 0.9750 - val_loss: 2.0776e-04 - val_acc: 1.0000\n",
      "Epoch 30 - Validation Loss: 0.0000\n",
      "Epoch 30 - Validation loss_nat_1: 0.5769\n",
      "Epoch 30 - Validation loss_nat_2: 0.3077\n",
      "Epoch 30 - Validation loss_1: 0.0000\n",
      "Epoch 30 - Validation loss_2: 0.8462\n",
      "Epoch 31/40\n",
      "100/100 [==============================] - 11s 108ms/step - loss: 0.0959 - acc: 0.9825 - val_loss: 0.0462 - val_acc: 0.9800\n",
      "Epoch 31 - Validation Loss: 0.0000\n",
      "Epoch 31 - Validation loss_nat_1: 0.5769\n",
      "Epoch 31 - Validation loss_nat_2: 0.2885\n",
      "Epoch 31 - Validation loss_1: 0.0000\n",
      "Epoch 31 - Validation loss_2: 0.8654\n",
      "Epoch 32/40\n",
      "100/100 [==============================] - 11s 109ms/step - loss: 0.0532 - acc: 0.9925 - val_loss: 0.0569 - val_acc: 0.9800\n",
      "Epoch 32 - Validation Loss: 0.0000\n",
      "Epoch 32 - Validation loss_nat_1: 0.5769\n",
      "Epoch 32 - Validation loss_nat_2: 0.2500\n",
      "Epoch 32 - Validation loss_1: 0.0000\n",
      "Epoch 32 - Validation loss_2: 0.8654\n",
      "Epoch 33/40\n",
      "100/100 [==============================] - 11s 108ms/step - loss: 0.0829 - acc: 0.9875 - val_loss: 0.0374 - val_acc: 0.9900\n",
      "Epoch 33 - Validation Loss: 0.0000\n",
      "Epoch 33 - Validation loss_nat_1: 0.5769\n",
      "Epoch 33 - Validation loss_nat_2: 0.2500\n",
      "Epoch 33 - Validation loss_1: 0.0000\n",
      "Epoch 33 - Validation loss_2: 0.8846\n",
      "Epoch 34/40\n",
      "100/100 [==============================] - 11s 110ms/step - loss: 0.0748 - acc: 0.9900 - val_loss: 0.0986 - val_acc: 0.9600\n",
      "Epoch 34 - Validation Loss: 0.0000\n",
      "Epoch 34 - Validation loss_nat_1: 0.5769\n",
      "Epoch 34 - Validation loss_nat_2: 0.2500\n",
      "Epoch 34 - Validation loss_1: 0.0000\n",
      "Epoch 34 - Validation loss_2: 0.8654\n",
      "Epoch 35/40\n",
      "100/100 [==============================] - 11s 110ms/step - loss: 0.1286 - acc: 0.9825 - val_loss: 2.1740e-04 - val_acc: 1.0000\n",
      "Epoch 35 - Validation Loss: 0.0192\n",
      "Epoch 35 - Validation loss_nat_1: 0.5769\n",
      "Epoch 35 - Validation loss_nat_2: 0.2692\n",
      "Epoch 35 - Validation loss_1: 0.0192\n",
      "Epoch 35 - Validation loss_2: 0.8654\n",
      "Epoch 36/40\n",
      "100/100 [==============================] - 11s 107ms/step - loss: 0.0961 - acc: 0.9850 - val_loss: 2.1773e-04 - val_acc: 1.0000\n",
      "Epoch 36 - Validation Loss: 0.0000\n",
      "Epoch 36 - Validation loss_nat_1: 0.5769\n",
      "Epoch 36 - Validation loss_nat_2: 0.2692\n",
      "Epoch 36 - Validation loss_1: 0.0000\n",
      "Epoch 36 - Validation loss_2: 0.8654\n",
      "Epoch 37/40\n",
      "100/100 [==============================] - 11s 109ms/step - loss: 0.0149 - acc: 0.9975 - val_loss: 0.0224 - val_acc: 0.9900\n",
      "Epoch 37 - Validation Loss: 0.0000\n",
      "Epoch 37 - Validation loss_nat_1: 0.5769\n",
      "Epoch 37 - Validation loss_nat_2: 0.2692\n",
      "Epoch 37 - Validation loss_1: 0.0000\n",
      "Epoch 37 - Validation loss_2: 0.8462\n",
      "Epoch 38/40\n",
      "100/100 [==============================] - 11s 107ms/step - loss: 0.0273 - acc: 0.9975 - val_loss: 0.0309 - val_acc: 0.9900\n",
      "Epoch 38 - Validation Loss: 0.0000\n",
      "Epoch 38 - Validation loss_nat_1: 0.5769\n",
      "Epoch 38 - Validation loss_nat_2: 0.3269\n",
      "Epoch 38 - Validation loss_1: 0.0000\n",
      "Epoch 38 - Validation loss_2: 0.8846\n",
      "Epoch 39/40\n",
      "100/100 [==============================] - 11s 110ms/step - loss: 0.0820 - acc: 0.9875 - val_loss: 0.0166 - val_acc: 0.9900\n",
      "Epoch 39 - Validation Loss: 0.0000\n",
      "Epoch 39 - Validation loss_nat_1: 0.5769\n",
      "Epoch 39 - Validation loss_nat_2: 0.3269\n",
      "Epoch 39 - Validation loss_1: 0.0000\n",
      "Epoch 39 - Validation loss_2: 0.8654\n",
      "Epoch 40/40\n",
      "100/100 [==============================] - 11s 107ms/step - loss: 0.0269 - acc: 0.9875 - val_loss: 0.0405 - val_acc: 0.9700\n",
      "Epoch 40 - Validation Loss: 0.0000\n",
      "Epoch 40 - Validation loss_nat_1: 0.5769\n",
      "Epoch 40 - Validation loss_nat_2: 0.3269\n",
      "Epoch 40 - Validation loss_1: 0.0000\n",
      "Epoch 40 - Validation loss_2: 0.8462\n"
     ]
    }
   ],
   "source": [
    "history_mask = mask_model.fit_generator(train_generator, \n",
    "                                      steps_per_epoch=len(target_model.trainX) / target_model.batch_size,\n",
    "                                      validation_data=val_generator,\n",
    "                                      epochs=40,\n",
    "                                      validation_steps=len(target_model.valX) / target_model.batch_size,\n",
    "                                      callbacks=[custom_callback_mask]\n",
    "                                      )"
   ]
  },
  {
   "cell_type": "code",
   "execution_count": 51,
   "metadata": {},
   "outputs": [
    {
     "name": "stdout",
     "output_type": "stream",
     "text": [
      "<keras.callbacks.History object at 0x000001B641972128>\n",
      "dict_keys(['val_loss', 'val_acc', 'loss', 'acc'])\n",
      "Now,we start drawing the loss and acc trends graph...\n"
     ]
    },
    {
     "data": {
      "image/png": "[encoded data removed]",
      "text/plain": [
       "<Figure size 432x288 with 1 Axes>"
      ]
     },
     "metadata": {
      "needs_background": "light"
     },
     "output_type": "display_data"
    }
   ],
   "source": [
    "# summarize history for accuracy\n",
    "fig = plt.figure(1)\n",
    "plt.plot(loss_per_mask)\n",
    "plt.plot(loss_1_mask)\n",
    "plt.plot(loss_2_mask)\n",
    "plt.title(\"The loss of model, target layer and trojan layer\")\n",
    "plt.ylabel(\"loss\")\n",
    "plt.xlabel(\"epoch\")\n",
    "plt.show()\n",
    "plt.close(1)"
   ]
  },
  {
   "cell_type": "code",
   "execution_count": 52,
   "metadata": {},
   "outputs": [
    {
     "name": "stdout",
     "output_type": "stream",
     "text": [
      "<keras.callbacks.History object at 0x000001B641972128>\n",
      "dict_keys(['val_loss', 'val_acc', 'loss', 'acc'])\n",
      "Now,we start drawing the loss and acc trends graph...\n"
     ]
    },
    {
     "data": {
      "image/png": "[encoded data removed]",
      "text/plain": [
       "<Figure size 432x288 with 1 Axes>"
      ]
     },
     "metadata": {
      "needs_background": "light"
     },
     "output_type": "display_data"
    }
   ],
   "source": [
    "# summarize history for accuracy\n",
    "fig = plt.figure(1)\n",
    "plt.plot(loss_per_mask)\n",
    "plt.plot(loss_nat_1_per)\n",
    "plt.plot(loss_nat_2_per)\n",
    "plt.title(\"the natural loss of each layer in optimization\")\n",
    "plt.ylabel(\"loss\")\n",
    "plt.xlabel(\"epoch\")\n",
    "plt.show()\n",
    "plt.close(1)"
   ]
  },
  {
   "cell_type": "code",
   "execution_count": 53,
   "metadata": {},
   "outputs": [],
   "source": [
    "mask_model.set_weights(custom_callback_mask.get_best_weights())"
   ]
  },
  {
   "cell_type": "markdown",
   "metadata": {},
   "source": [
    "Analysis the results"
   ]
  },
  {
   "cell_type": "code",
   "execution_count": 55,
   "metadata": {},
   "outputs": [
    {
     "name": "stdout",
     "output_type": "stream",
     "text": [
      "0.24278846153846154\n",
      "0.6370192307692308\n"
     ]
    }
   ],
   "source": [
    "# mean value of robustness\n",
    "robust_target = np.mean(loss_rob_target)\n",
    "robust_trojan = np.mean(loss_rob_trojan)\n",
    "print(robust_target)\n",
    "print(robust_trojan)"
   ]
  },
  {
   "cell_type": "code",
   "execution_count": 56,
   "metadata": {},
   "outputs": [
    {
     "name": "stdout",
     "output_type": "stream",
     "text": [
      "0.4182692307692307\n",
      "0.18125\n"
     ]
    }
   ],
   "source": [
    "# mean value of loss in optimization\n",
    "natural_target = np.mean(loss_nat_1_per)\n",
    "natural_trojan = np.mean(loss_nat_2_per)\n",
    "print(natural_target)\n",
    "print(natural_trojan)"
   ]
  },
  {
   "cell_type": "markdown",
   "metadata": {},
   "source": [
    "trade 0ff coefficient"
   ]
  },
  {
   "cell_type": "code",
   "execution_count": 60,
   "metadata": {},
   "outputs": [],
   "source": [
    "a = 0.8"
   ]
  },
  {
   "cell_type": "code",
   "execution_count": 62,
   "metadata": {},
   "outputs": [
    {
     "name": "stdout",
     "output_type": "stream",
     "text": [
      "the loss of target : 0.27788461538461534\n",
      "the loss of trojan : 0.5458653846153847\n"
     ]
    }
   ],
   "source": [
    "loss_sequential_1 = a*robust_target+(1-a)*natural_target\n",
    "loss_sequential_2 = a*robust_trojan+(1-a)*natural_trojan\n",
    "print(\"the loss of target :\", loss_sequential_1)\n",
    "print(\"the loss of trojan :\", loss_sequential_2)"
   ]
  },
  {
   "cell_type": "markdown",
   "metadata": {},
   "source": [
    "pruned weights"
   ]
  },
  {
   "cell_type": "code",
   "execution_count": 86,
   "metadata": {},
   "outputs": [
    {
     "name": "stdout",
     "output_type": "stream",
     "text": [
      "Sequential_2 layer weights pruned successfully.\n",
      "_________________________________________________________________\n",
      "Layer (type)                 Output Shape              Param #   \n",
      "=================================================================\n",
      "input_1 (InputLayer)         (None, 224, 224, 3)       0         \n",
      "_________________________________________________________________\n",
      "sequential_1 (Sequential)    (None, 5)                 21813029  \n",
      "=================================================================\n",
      "Total params: 21,813,029\n",
      "Trainable params: 21,778,597\n",
      "Non-trainable params: 34,432\n",
      "_________________________________________________________________\n",
      "TrojanNet was pruned successfully.\n"
     ]
    }
   ],
   "source": [
    "# set the weight of TrojanNet as 0\n",
    "all_layers = mask_model.layers\n",
    "target_layer_name = 'sequential_2'\n",
    "target_layer = None\n",
    "for layer in all_layers:\n",
    "    if layer.name == target_layer_name:\n",
    "        target_layer = layer\n",
    "        break\n",
    "\n",
    "weights = target_layer.get_weights()\n",
    "pruned_weights = [np.zeros_like(w) for w in weights]\n",
    "target_layer.set_weights(pruned_weights)\n",
    "print(\"Sequential_2 layer weights pruned successfully.\")\n",
    "\n",
    "# make a new Model without Trojan\n",
    "new_model_layers = [layer for layer in all_layers if layer.name != 'sequential_2']\n",
    "new_model_output = mask_model.get_layer('sequential_1').get_output_at(-1)\n",
    "new_model = Model(inputs=mask_model.input, outputs=new_model_output)\n",
    "new_model.summary()\n",
    "print(\"TrojanNet was pruned successfully.\")"
   ]
  },
  {
   "cell_type": "markdown",
   "metadata": {},
   "source": [
    "do a test of Model before and after ANP"
   ]
  },
  {
   "cell_type": "code",
   "execution_count": 71,
   "metadata": {},
   "outputs": [
    {
     "name": "stdout",
     "output_type": "stream",
     "text": [
      "loss rate of backdoor model on the clean data set : 0.0\n",
      "loss rate of backdoor model on the posioned data set : 0.0\n"
     ]
    }
   ],
   "source": [
    "loss_clean=compute_error_rate(trojan_model.backdoor_model, clean_test_data, clean_test_labels)\n",
    "print(\"loss rate of backdoor model on the clean data set :\",loss_clean)\n",
    "loss_dirty=compute_error_rate(trojan_model.backdoor_model, poisoned_test_data, poisoned_test_labels)\n",
    "print(\"loss rate of backdoor model on the posioned data set :\",loss_dirty)"
   ]
  },
  {
   "cell_type": "code",
   "execution_count": 103,
   "metadata": {},
   "outputs": [
    {
     "name": "stdout",
     "output_type": "stream",
     "text": [
      "loss rate after ANP on the clean data set : 0.0\n",
      "loss rate after ANP on the posioned data set : 1.0\n"
     ]
    }
   ],
   "source": [
    "loss_clean_mask=compute_error_rate(new_model, clean_test_data, clean_test_labels)\n",
    "print(\"loss rate after ANP on the clean data set :\",loss_clean_mask)\n",
    "loss_dirty_mask=compute_error_rate(new_model, poisoned_test_data, poisoned_test_labels)\n",
    "print(\"loss rate after ANP on the posioned data set :\",loss_dirty_mask)"
   ]
  }
 ],
 "metadata": {
  "kernelspec": {
   "display_name": "KerasDNN",
   "language": "python",
   "name": "python3"
  },
  "language_info": {
   "codemirror_mode": {
    "name": "ipython",
    "version": 3
   },
   "file_extension": ".py",
   "mimetype": "text/x-python",
   "name": "python",
   "nbconvert_exporter": "python",
   "pygments_lexer": "ipython3",
   "version": "3.6.12"
  }
 },
 "nbformat": 4,
 "nbformat_minor": 2
}
